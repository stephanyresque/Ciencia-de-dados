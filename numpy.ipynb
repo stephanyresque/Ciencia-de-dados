{
  "nbformat": 4,
  "nbformat_minor": 0,
  "metadata": {
    "colab": {
      "provenance": [],
      "authorship_tag": "ABX9TyNCQpgz/NguPBDGJT98PqKO",
      "include_colab_link": true
    },
    "kernelspec": {
      "name": "python3",
      "display_name": "Python 3"
    },
    "language_info": {
      "name": "python"
    }
  },
  "cells": [
    {
      "cell_type": "markdown",
      "metadata": {
        "id": "view-in-github",
        "colab_type": "text"
      },
      "source": [
        "<a href=\"https://colab.research.google.com/github/stephanyresque/Ciencia-de-dados/blob/main/numpy.ipynb\" target=\"_parent\"><img src=\"https://colab.research.google.com/assets/colab-badge.svg\" alt=\"Open In Colab\"/></a>"
      ]
    },
    {
      "cell_type": "code",
      "execution_count": null,
      "metadata": {
        "id": "z-dXwyvIe7RA"
      },
      "outputs": [],
      "source": [
        "import numpy as np"
      ]
    },
    {
      "cell_type": "code",
      "source": [
        "#criando uma matriz unidimensional\n",
        "mt = np.array([12,34,56,34])\n",
        "print(mt)\n",
        "print(type(mt))"
      ],
      "metadata": {
        "colab": {
          "base_uri": "https://localhost:8080/"
        },
        "id": "BaoeqHbQfvcz",
        "outputId": "4450700c-be68-4fdb-86a3-c9fab4b95a0d"
      },
      "execution_count": null,
      "outputs": [
        {
          "output_type": "stream",
          "name": "stdout",
          "text": [
            "[12 34 56 34]\n",
            "<class 'numpy.ndarray'>\n"
          ]
        }
      ]
    },
    {
      "cell_type": "code",
      "source": [
        "#criando uma array de tipo específico\n",
        "mtfloat = np.array([1,2,3], dtype = np.float64) #cria uma array de tipo float de 64 bits\n",
        "print(mtfloat)\n",
        "mtint = np.array([1,2,3], dtype = np.int32) #cria uma array de tipo int de 32 bits\n",
        "print(mtint)"
      ],
      "metadata": {
        "colab": {
          "base_uri": "https://localhost:8080/"
        },
        "id": "mZm8eLxbf9pT",
        "outputId": "fbfd7689-1567-4fdf-ece3-4321990635eb"
      },
      "execution_count": null,
      "outputs": [
        {
          "output_type": "stream",
          "name": "stdout",
          "text": [
            "[1. 2. 3.]\n",
            "[1 2 3]\n"
          ]
        }
      ]
    },
    {
      "cell_type": "code",
      "source": [
        "#podemos mudar um tipo de uma array\n",
        "mtold = np.array([2.4, 4.999, 5,7, 1.2])\n",
        "print(mtold)\n",
        "mtnew = mtold.astype(np.int32)\n",
        "print(mtnew)"
      ],
      "metadata": {
        "colab": {
          "base_uri": "https://localhost:8080/"
        },
        "id": "k62CAeNohFZr",
        "outputId": "64e57450-3b24-4be3-9541-46448ea2521e"
      },
      "execution_count": null,
      "outputs": [
        {
          "output_type": "stream",
          "name": "stdout",
          "text": [
            "[2.4   4.999 5.    7.    1.2  ]\n",
            "[2 4 5 7 1]\n"
          ]
        }
      ]
    },
    {
      "cell_type": "code",
      "source": [
        "arr = np.array([1,2,3])\n",
        "arr_new = arr.astype(float)\n",
        "print(arr_new)"
      ],
      "metadata": {
        "colab": {
          "base_uri": "https://localhost:8080/"
        },
        "id": "cugqlmTThuDL",
        "outputId": "c5a479a2-3f58-4616-fa08-287081982d5e"
      },
      "execution_count": null,
      "outputs": [
        {
          "output_type": "stream",
          "name": "stdout",
          "text": [
            "[1. 2. 3.]\n"
          ]
        }
      ]
    },
    {
      "cell_type": "code",
      "source": [
        "#criando uma matriz bidimensional\n",
        "mt7 = np.array([ [1,2,3], [4,5,6], [7,8,9] ])\n",
        "print(mt7)"
      ],
      "metadata": {
        "colab": {
          "base_uri": "https://localhost:8080/"
        },
        "id": "Rnp5974Mh756",
        "outputId": "4c933022-7e58-4a7c-8ff4-a9faf97ae394"
      },
      "execution_count": null,
      "outputs": [
        {
          "output_type": "stream",
          "name": "stdout",
          "text": [
            "[[1 2 3]\n",
            " [4 5 6]\n",
            " [7 8 9]]\n"
          ]
        }
      ]
    },
    {
      "cell_type": "code",
      "source": [
        "vazio = np.empty([3,2], dtype = int) #crio uma matriz de 3 linhas e 2 colunas que não será inicializada e terá valores aleatórios\n",
        "print(vazio)\n",
        "print(\"\\n\")\n",
        "zero = np.zeros([3,2]) #crio uma matriz de 3 linhas e 2 colunas que será inicializada com zeros\n",
        "print(zero)\n",
        "print(\"\\n\")\n",
        "one = np.ones([3,2]) #crio uma matriz de 3 linhas e 2 colunas que será inicializada com uns\n",
        "print(one)\n",
        "print(\"\\n\")\n",
        "diagonal = np.eye(3) #crio uma matriz quadrada que será inicializada com a diagonal 1 e o resto 0\n",
        "print(diagonal)\n",
        "print(\"\\n\")"
      ],
      "metadata": {
        "colab": {
          "base_uri": "https://localhost:8080/"
        },
        "id": "3RqjGqtui1M6",
        "outputId": "ea2f8013-bec5-4359-be3a-1580e30dfccd"
      },
      "execution_count": null,
      "outputs": [
        {
          "output_type": "stream",
          "name": "stdout",
          "text": [
            "[[4607182418800017408 4607182418800017408]\n",
            " [4607182418800017408 4607182418800017408]\n",
            " [4607182418800017408 4607182418800017408]]\n",
            "\n",
            "\n",
            "[[0. 0.]\n",
            " [0. 0.]\n",
            " [0. 0.]]\n",
            "\n",
            "\n",
            "[[1. 1.]\n",
            " [1. 1.]\n",
            " [1. 1.]]\n",
            "\n",
            "\n",
            "[[1. 0. 0.]\n",
            " [0. 1. 0.]\n",
            " [0. 0. 1.]]\n",
            "\n",
            "\n"
          ]
        }
      ]
    },
    {
      "cell_type": "code",
      "source": [
        "#cria valores aleatórios entre 0 e 1\n",
        "ale = np.random.random(5) #tbm posso ([x,y]) -> fazer uma matriz\n",
        "print(ale)\n",
        "print(\"\\n\")\n",
        "#valores aleatório distribuição normal contendo negativos\n",
        "ale2 = np.random.randn(5)\n",
        "print(ale2)\n",
        "print(\"\\n\")\n",
        "ale_mat = 5 * (np.random.random((3,2)))\n",
        "print(ale_mat)\n"
      ],
      "metadata": {
        "colab": {
          "base_uri": "https://localhost:8080/"
        },
        "id": "xM7zu9cWk6eD",
        "outputId": "7c6da590-48c8-4810-939a-83f77b1fb109"
      },
      "execution_count": null,
      "outputs": [
        {
          "output_type": "stream",
          "name": "stdout",
          "text": [
            "[0.75092695 0.61078309 0.25570033 0.14683904 0.77535555]\n",
            "\n",
            "\n",
            "[ 2.22448446  1.07929203  0.88726643  0.33995505 -0.27909053]\n",
            "\n",
            "\n",
            "[[2.89060514 0.36949468]\n",
            " [4.7807651  1.69373141]\n",
            " [1.56312409 2.66168747]]\n"
          ]
        }
      ]
    },
    {
      "cell_type": "code",
      "source": [
        "#outra forma de gerar aleatórios é pelas sementes\n",
        "#as sementes permitem que eu gere uns números aleatórios e dps possa usá-los novamente\n",
        "#eles ficam \"guardados\"\n",
        "sem = np.random.default_rng(1)\n",
        "ale3 = sem.random(5)\n",
        "print(ale3) #não importa quantas vezes eu execute, será sempre os mesmos números\n",
        "print(\"\\n\")\n",
        "#gero aleatórios (que ficarão guardados) de tipo inteiro e valor máximo 10 em forma de matriz 3x2\n",
        "ale4 = sem.integers(10, size=(3,2))\n",
        "print(ale4)\n"
      ],
      "metadata": {
        "colab": {
          "base_uri": "https://localhost:8080/"
        },
        "id": "qp0a6cc0mSFi",
        "outputId": "157026b8-f64f-42d4-cdbb-b9497efe1881"
      },
      "execution_count": null,
      "outputs": [
        {
          "output_type": "stream",
          "name": "stdout",
          "text": [
            "[0.51182162 0.9504637  0.14415961 0.94864945 0.31183145]\n",
            "\n",
            "\n",
            "[[8 4]\n",
            " [2 8]\n",
            " [2 4]]\n"
          ]
        }
      ]
    },
    {
      "cell_type": "code",
      "source": [
        "#removendo repetições numa array\n",
        "vet = np.array([1,2,2,3,45,7,88,88,90])\n",
        "vet = np.unique(vet)\n",
        "print(vet)"
      ],
      "metadata": {
        "colab": {
          "base_uri": "https://localhost:8080/"
        },
        "id": "Qlw7qn9uoIu6",
        "outputId": "16e34707-90e3-47ae-c3c1-aa32d1d5943a"
      },
      "execution_count": null,
      "outputs": [
        {
          "output_type": "stream",
          "name": "stdout",
          "text": [
            "[ 1  2  3  7 45 88 90]\n"
          ]
        }
      ]
    },
    {
      "cell_type": "code",
      "source": [
        "mt7 = np.array([ [1,2,3], [4,5,6], [7,8,9] ]) #matriz bidimensional\n",
        "print(mt7)\n",
        "print(\"\\n\")\n",
        "print(mt7[0][2])\n",
        "print(\"\\n\")\n",
        "print(mt7.shape) #mostra o tamanho da matriz"
      ],
      "metadata": {
        "colab": {
          "base_uri": "https://localhost:8080/"
        },
        "id": "SVasdLVcoiOZ",
        "outputId": "6b46d5f5-81c6-4343-907e-b5c8cb08cc81"
      },
      "execution_count": null,
      "outputs": [
        {
          "output_type": "stream",
          "name": "stdout",
          "text": [
            "[[1 2 3]\n",
            " [4 5 6]\n",
            " [7 8 9]]\n",
            "\n",
            "\n",
            "3\n",
            "\n",
            "\n",
            "(3, 3)\n"
          ]
        }
      ]
    },
    {
      "cell_type": "code",
      "source": [
        "#mostra o maior valor da matriz k\n",
        "print(mt7.max())\n",
        "#mostra o menor valor da matriz k\n",
        "print(mt7.min())\n",
        "#mostra a soma dos valores da matriz k\n",
        "print(mt7.sum())\n",
        "#mostra a média dos valores da matriz k\n",
        "print(mt7.mean())\n",
        "#mostra a variância dos valores da matriz k\n",
        "print(mt7.var())\n",
        "#mostra a desvio padrão dos valores da matriz k\n",
        "print(mt7.std())\n"
      ],
      "metadata": {
        "colab": {
          "base_uri": "https://localhost:8080/"
        },
        "id": "Onq2VMIcpN6U",
        "outputId": "fbb855df-5701-40e8-f1cb-3a1987c854f2"
      },
      "execution_count": null,
      "outputs": [
        {
          "output_type": "stream",
          "name": "stdout",
          "text": [
            "9\n",
            "1\n",
            "45\n",
            "5.0\n",
            "6.666666666666667\n",
            "2.581988897471611\n"
          ]
        }
      ]
    },
    {
      "cell_type": "code",
      "source": [
        "#funções aplicadas a cada um dos elementos\n",
        "#raiz quadrada de cada elemento\n",
        "k1 = np.array([1,2,3,4,5])\n",
        "print(np.sqrt(k1))\n",
        "#exponencial de cada elemento\n",
        "print(np.exp(k1))\n",
        "#logaritmo natural de cada elemento\n",
        "print(np.log(k1))"
      ],
      "metadata": {
        "colab": {
          "base_uri": "https://localhost:8080/"
        },
        "id": "SLRCtJrsp3Rk",
        "outputId": "22215d8b-56a2-4646-ea12-eeac9e919796"
      },
      "execution_count": null,
      "outputs": [
        {
          "output_type": "stream",
          "name": "stdout",
          "text": [
            "[1.         1.41421356 1.73205081 2.         2.23606798]\n",
            "[  2.71828183   7.3890561   20.08553692  54.59815003 148.4131591 ]\n",
            "[0.         0.69314718 1.09861229 1.38629436 1.60943791]\n"
          ]
        }
      ]
    },
    {
      "cell_type": "code",
      "source": [
        "m = np.array([2,3,5,4,1])\n",
        "print(m[1]) #mostra o elemento da posiçao 1\n",
        "print(\"\\n\")\n",
        "print(m[0:2]) #mostra os elementos da posição 0 até a posição 2\n",
        "print(\"\\n\")\n",
        "print(m[1:]) #mostra os elementos da posição 1 até o final\n",
        "print(\"\\n\")\n",
        "print(m[-2:]) #mostra os dois últimos elementos\n",
        "print(\"\\n\")\n",
        "print(m[1:3]) #mostra os elementos da posição 1 até a posição 3\n",
        "print(\"\\n\")"
      ],
      "metadata": {
        "colab": {
          "base_uri": "https://localhost:8080/"
        },
        "id": "hBE6_-w0qckk",
        "outputId": "c80ff93a-46f1-4465-c982-0dc85b7b8185"
      },
      "execution_count": null,
      "outputs": [
        {
          "output_type": "stream",
          "name": "stdout",
          "text": [
            "3\n",
            "\n",
            "\n",
            "[2 3]\n",
            "\n",
            "\n",
            "[3 5 4 1]\n",
            "\n",
            "\n",
            "[4 1]\n",
            "\n",
            "\n",
            "[3 5]\n",
            "\n",
            "\n"
          ]
        }
      ]
    },
    {
      "cell_type": "code",
      "source": [
        "l = np.array([[2,3,4],[34,2,11],[12,3,7]])\n",
        "print(l)\n",
        "print(\"\\n\")\n",
        "#mostrando linhas com todas as colunas\n",
        "l_linha1 = l[0, :]\n",
        "print(l_linha1)\n",
        "print(\"\\n\")\n",
        "l_linha2 = l[1, :]\n",
        "print(l_linha2)\n",
        "print(\"\\n\")\n",
        "l_linha3 = l[2,:]\n",
        "print(l_linha3)\n",
        "print(\"\\n\")\n",
        "print(\"----------\")\n",
        "#mostrando colunas com todas as linhas\n",
        "l_coluna1 = l[:,0]\n",
        "print(l_coluna1)\n",
        "print(\"\\n\")\n",
        "l_coluna2 = l[:,1]\n",
        "print(l_coluna2)\n",
        "print(\"\\n\")\n",
        "l_coluna3 = l[:,2]\n",
        "print(l_coluna3)\n",
        "print(\"\\n\")"
      ],
      "metadata": {
        "colab": {
          "base_uri": "https://localhost:8080/"
        },
        "id": "6V3oDlxxsgRy",
        "outputId": "257779d4-e656-4f8a-ab6c-cb3558f4a92b"
      },
      "execution_count": null,
      "outputs": [
        {
          "output_type": "stream",
          "name": "stdout",
          "text": [
            "[[ 2  3  4]\n",
            " [34  2 11]\n",
            " [12  3  7]]\n",
            "\n",
            "\n",
            "[2 3 4]\n",
            "\n",
            "\n",
            "[34  2 11]\n",
            "\n",
            "\n",
            "[12  3  7]\n",
            "\n",
            "\n",
            "----------\n",
            "[ 2 34 12]\n",
            "\n",
            "\n",
            "[3 2 3]\n",
            "\n",
            "\n",
            "[ 4 11  7]\n",
            "\n",
            "\n"
          ]
        }
      ]
    },
    {
      "cell_type": "code",
      "source": [
        "#adição e multiplicação de matrizes\n",
        "n = np.array([[1,2,3],[4,5,6]])\n",
        "m = np.array([[2,3,4],[34,2,11]])\n",
        "soma = n + m\n",
        "print(soma)\n",
        "print(\"\\n\")\n",
        "mult = n * m\n",
        "print(mult)\n",
        "print(\"\\n\")\n",
        "p = np.array([[2,3,4],[12,3,5],[6,73,2]])\n",
        "o = np.array([1,2,3])\n",
        "print(p + o)"
      ],
      "metadata": {
        "colab": {
          "base_uri": "https://localhost:8080/"
        },
        "id": "cVaZCsmIuWmr",
        "outputId": "a4986be4-6bf6-41f9-fbf0-4320b5a39dfa"
      },
      "execution_count": null,
      "outputs": [
        {
          "output_type": "stream",
          "name": "stdout",
          "text": [
            "[[ 3  5  7]\n",
            " [38  7 17]]\n",
            "\n",
            "\n",
            "[[  2   6  12]\n",
            " [136  10  66]]\n",
            "\n",
            "\n",
            "[[ 3  5  7]\n",
            " [13  5  8]\n",
            " [ 7 75  5]]\n"
          ]
        }
      ]
    },
    {
      "cell_type": "code",
      "source": [
        "trans = np.arange(15).reshape(3,5) #crio uma matriz com valor máximo < 15 com 3 linhas e 5 colunas\n",
        "print(trans)\n",
        "print(\"\\n\")\n",
        "print(trans.T) #transposta"
      ],
      "metadata": {
        "colab": {
          "base_uri": "https://localhost:8080/"
        },
        "id": "EZQMwf9SvItU",
        "outputId": "4f273fd4-5b15-4650-a70f-61e709ee593d"
      },
      "execution_count": null,
      "outputs": [
        {
          "output_type": "stream",
          "name": "stdout",
          "text": [
            "[[ 0  1  2  3  4]\n",
            " [ 5  6  7  8  9]\n",
            " [10 11 12 13 14]]\n",
            "\n",
            "\n",
            "[[ 0  5 10]\n",
            " [ 1  6 11]\n",
            " [ 2  7 12]\n",
            " [ 3  8 13]\n",
            " [ 4  9 14]]\n"
          ]
        }
      ]
    },
    {
      "cell_type": "code",
      "source": [
        "#expressões lógicas\n",
        "mat = np.random.randn(3,3)\n",
        "print(mat)\n",
        "print(\"\\n\")\n",
        "x = mat > 0\n",
        "print(x)\n",
        "print(\"\\n\")\n",
        "z = np.where(mat > 0,1,-1)\n",
        "print(z)\n"
      ],
      "metadata": {
        "colab": {
          "base_uri": "https://localhost:8080/"
        },
        "id": "rOZP4bbBvbms",
        "outputId": "7f52759a-5137-4f9a-a426-1a4ad37c7d58"
      },
      "execution_count": null,
      "outputs": [
        {
          "output_type": "stream",
          "name": "stdout",
          "text": [
            "[[ 1.70148889  1.91084288 -0.20282384]\n",
            " [-1.91369409 -0.94405778 -1.0521732 ]\n",
            " [ 0.84545819 -0.02871812  2.27741715]]\n",
            "\n",
            "\n",
            "[[ True  True False]\n",
            " [False False False]\n",
            " [ True False  True]]\n",
            "\n",
            "\n",
            "[[ 1  1 -1]\n",
            " [-1 -1 -1]\n",
            " [ 1 -1  1]]\n"
          ]
        }
      ]
    }
  ]
}